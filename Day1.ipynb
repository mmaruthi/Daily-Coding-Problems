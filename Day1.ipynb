{
  "nbformat": 4,
  "nbformat_minor": 0,
  "metadata": {
    "colab": {
      "name": "Untitled9.ipynb",
      "provenance": [],
      "authorship_tag": "ABX9TyOw2pJ+rXfr8w2Gzw4ty7K0",
      "include_colab_link": true
    },
    "kernelspec": {
      "name": "python3",
      "display_name": "Python 3"
    }
  },
  "cells": [
    {
      "cell_type": "markdown",
      "metadata": {
        "id": "view-in-github",
        "colab_type": "text"
      },
      "source": [
        "<a href=\"https://colab.research.google.com/github/mmaruthi/Daily-Coding-Problems/blob/master/Day1.ipynb\" target=\"_parent\"><img src=\"https://colab.research.google.com/assets/colab-badge.svg\" alt=\"Open In Colab\"/></a>"
      ]
    },
    {
      "cell_type": "code",
      "metadata": {
        "id": "BaXWgVPt0y-F",
        "colab_type": "code",
        "colab": {}
      },
      "source": [
        ""
      ],
      "execution_count": 0,
      "outputs": []
    },
    {
      "cell_type": "markdown",
      "metadata": {
        "id": "c4-vYVbO01xN",
        "colab_type": "text"
      },
      "source": [
        "Given a list of numbers and a number k, return whether any two numbers from the list add up to k.\n",
        "\n",
        "For example, given [10, 15, 3, 7] and k of 17, return true since 10 + 7 is 17."
      ]
    },
    {
      "cell_type": "code",
      "metadata": {
        "id": "oZMcLuI109-t",
        "colab_type": "code",
        "colab": {}
      },
      "source": [
        "def sum(lst , k):\n",
        "    for i in range(len(lst)):\n",
        "        for j in range(len(lst)):\n",
        "            if i != j and lst[i] + lst[j] == k:\n",
        "              return (\"Yes it's a sum from list of the two numbers\" , i , j)\n",
        "\n",
        "    return False\n",
        "    "
      ],
      "execution_count": 0,
      "outputs": []
    },
    {
      "cell_type": "code",
      "metadata": {
        "id": "nZduZiM22BW3",
        "colab_type": "code",
        "colab": {
          "base_uri": "https://localhost:8080/",
          "height": 35
        },
        "outputId": "ccac1de2-174e-437c-a087-3d0807a58176"
      },
      "source": [
        "\n",
        "sum([2,3,4,5] , 6)"
      ],
      "execution_count": 13,
      "outputs": [
        {
          "output_type": "execute_result",
          "data": {
            "text/plain": [
              "(\"Yes it's a sum from list of the two numbers\", 0, 2)"
            ]
          },
          "metadata": {
            "tags": []
          },
          "execution_count": 13
        }
      ]
    }
  ]
}