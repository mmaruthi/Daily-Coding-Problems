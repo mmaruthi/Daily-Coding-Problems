{
  "nbformat": 4,
  "nbformat_minor": 0,
  "metadata": {
    "colab": {
      "name": "Untitled11.ipynb",
      "provenance": [],
      "authorship_tag": "ABX9TyOZ1irjlXaref/GecCqcXNP",
      "include_colab_link": true
    },
    "kernelspec": {
      "name": "python3",
      "display_name": "Python 3"
    }
  },
  "cells": [
    {
      "cell_type": "markdown",
      "metadata": {
        "id": "view-in-github",
        "colab_type": "text"
      },
      "source": [
        "<a href=\"https://colab.research.google.com/github/mmaruthi/Daily-Coding-Problems/blob/master/Day3.ipynb\" target=\"_parent\"><img src=\"https://colab.research.google.com/assets/colab-badge.svg\" alt=\"Open In Colab\"/></a>"
      ]
    },
    {
      "cell_type": "code",
      "metadata": {
        "id": "-bAIxKff7_Ej",
        "colab_type": "code",
        "colab": {}
      },
      "source": [
        ""
      ],
      "execution_count": 0,
      "outputs": []
    },
    {
      "cell_type": "markdown",
      "metadata": {
        "id": "LiV2NE8S8oDw",
        "colab_type": "text"
      },
      "source": [
        "## Day 3## \n",
        "Given the root to a binary tree, implement serialize(root), which serializes the tree into a string, and deserialize(s), which deserializes the string back into the tree.\n",
        "\n",
        "For example, given the following Node class\n",
        "\n",
        "class Node:\n",
        "    def __init__(self, val, left=None, right=None):\n",
        "        self.val = val\n",
        "        self.left = left\n",
        "        self.right = right\n",
        "The following test should pass:\n",
        "\n",
        "node = Node('root', Node('left', Node('left.left')), Node('right'))\n",
        "assert deserialize(serialize(node)).left.left.val == 'left.left'"
      ]
    },
    {
      "cell_type": "markdown",
      "metadata": {
        "id": "AiHO2_7I8yKQ",
        "colab_type": "text"
      },
      "source": [
        "# Solution Approach## \n",
        "## Go through this solution again and again and learn binary trees## \n",
        "\n",
        "There are many ways to serialize and deserialize a binary tree, so don't worry if your solution differs from this one. We will be only going through one possible solution.\n",
        "\n",
        "We can approach this problem by first figuring out what we would like the serialized tree to look like. Ideally, it would contain the minimum information required to encode all the necessary information about the binary tree. One possible encoding might be to borrow S-expressions from Lisp. The tree Node(1, Node(2), Node(3)) would then look like '(1 (2 () ()) (3 () ()))', where the empty brackets denote nulls.\n",
        "\n",
        "To minimize data over the hypothetical wire, we could go a step further and prune out some unnecessary brackets. We could also replace the 2-character '()' with '#'. We can then infer leaf nodes by their form 'val # #' and thus get the structure of the tree that way. Then our tree would look like 1 2 # # 3 # #."
      ]
    },
    {
      "cell_type": "code",
      "metadata": {
        "id": "1RQK_Y909F4e",
        "colab_type": "code",
        "colab": {}
      },
      "source": [
        "def serialize(root):\n",
        "    if root is None:\n",
        "       return '#'\n",
        "    return '{} {} {}'.format(root.val, serialize(root.left), serialize(root.right))\n",
        "\n",
        "def deserialize(data):\n",
        "    def helper():\n",
        "        val = next(vals)\n",
        "        if val == '#':\n",
        "           return None\n",
        "        node = Node(int(val))\n",
        "        node.left = helper()\n",
        "        node.right = helper()\n",
        "        return node \n",
        "    vals = iter(data.split())\n",
        "    return helper()"
      ],
      "execution_count": 0,
      "outputs": []
    }
  ]
}