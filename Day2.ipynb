{
  "nbformat": 4,
  "nbformat_minor": 0,
  "metadata": {
    "colab": {
      "name": "Untitled10.ipynb",
      "provenance": [],
      "authorship_tag": "ABX9TyOEsQYsAePIvWXiNb38saT2",
      "include_colab_link": true
    },
    "kernelspec": {
      "name": "python3",
      "display_name": "Python 3"
    }
  },
  "cells": [
    {
      "cell_type": "markdown",
      "metadata": {
        "id": "view-in-github",
        "colab_type": "text"
      },
      "source": [
        "<a href=\"https://colab.research.google.com/github/mmaruthi/Daily-Coding-Problems/blob/master/Day2.ipynb\" target=\"_parent\"><img src=\"https://colab.research.google.com/assets/colab-badge.svg\" alt=\"Open In Colab\"/></a>"
      ]
    },
    {
      "cell_type": "markdown",
      "metadata": {
        "id": "B7IQkmJT2K9q",
        "colab_type": "text"
      },
      "source": [
        "## Day 2 ## \n",
        "Given an array of integers, return a new array such that each element at index i of the new array is the product of all the numbers in the original array except the one at i.\n",
        "\n",
        "For example, if our input was [1, 2, 3, 4, 5], the expected output would be [120, 60, 40, 30, 24]. If our input was [3, 2, 1], the expected output would be [2, 3, 6]."
      ]
    },
    {
      "cell_type": "markdown",
      "metadata": {
        "id": "KuQ0Pq325Mt6",
        "colab_type": "text"
      },
      "source": [
        "# Solution Approach##\n",
        "\n",
        "See that the \"i\" th element simply needs the product of numbers before i and the product of numbers after i. Then we can multiply those two numbers to get the desired product \n",
        "\n",
        "In order to find the product of numbers before i , we can generate a list of prefix products. Specifically the \"i\" th element in the list would be a product of all numbers including i. similarly we would generate a list of suffix products. \n",
        "Then Multiply those two numbers and generate the result"
      ]
    },
    {
      "cell_type": "code",
      "metadata": {
        "id": "yoNQlZ322Rwv",
        "colab_type": "code",
        "colab": {}
      },
      "source": [
        "def product(nums):\n",
        "    # Generate Prefix products \n",
        "    prefix_products = []                                      # Empty List for Prefix products\n",
        "    for num in nums:                                          # if the num is present in the list \n",
        "        if prefix_products:                                   # if empty list , then take the last but oneth number and multiply it \n",
        "           prefix_products.append(prefix_products[-1] * num)\n",
        "        else:\n",
        "           prefix_products.append(num)                        # if not empty list - just save that num \n",
        "\n",
        "    # Generate suffix products \n",
        "    suffix_products = []\n",
        "    for num in reversed(nums):\n",
        "        if suffix_products:\n",
        "           suffix_products.append(suffix_products[-1] * num)\n",
        "        else:\n",
        "           suffix_products.append(num)\n",
        "    \n",
        "    suffix_products = list(reversed(suffix_products))\n",
        " \n",
        "    #Genearate result \n",
        "    result = []\n",
        "    for i in range(len(nums)):\n",
        "        if i == 0:\n",
        "           result.append(suffix_products[i+1])\n",
        "           print(result)                         # Just for debug purpose\n",
        "        elif i == len(nums) - 1:\n",
        "           result.append(prefix_products[i-1])\n",
        "           print(result)                         # Just for debug purpose\n",
        "        else:\n",
        "           result.append(prefix_products[i-1] * suffix_products[i+1])\n",
        "           print(result)                         #Just for debug purpose\n",
        "    return result\n"
      ],
      "execution_count": 0,
      "outputs": []
    },
    {
      "cell_type": "code",
      "metadata": {
        "id": "PqQxaeHk7HjN",
        "colab_type": "code",
        "colab": {
          "base_uri": "https://localhost:8080/",
          "height": 104
        },
        "outputId": "7dc90669-bc46-4442-c0f1-001ce47ef6b4"
      },
      "source": [
        "product([2,3,4,6])"
      ],
      "execution_count": 9,
      "outputs": [
        {
          "output_type": "stream",
          "text": [
            "[72]\n",
            "[72, 48]\n",
            "[72, 48, 36]\n",
            "[72, 48, 36, 24]\n"
          ],
          "name": "stdout"
        },
        {
          "output_type": "execute_result",
          "data": {
            "text/plain": [
              "[72, 48, 36, 24]"
            ]
          },
          "metadata": {
            "tags": []
          },
          "execution_count": 9
        }
      ]
    }
  ]
}