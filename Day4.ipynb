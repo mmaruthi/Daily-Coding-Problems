{
  "nbformat": 4,
  "nbformat_minor": 0,
  "metadata": {
    "colab": {
      "name": "Untitled12.ipynb",
      "provenance": [],
      "authorship_tag": "ABX9TyPPNdkdCvk/S/joLbPD7Bz/",
      "include_colab_link": true
    },
    "kernelspec": {
      "name": "python3",
      "display_name": "Python 3"
    }
  },
  "cells": [
    {
      "cell_type": "markdown",
      "metadata": {
        "id": "view-in-github",
        "colab_type": "text"
      },
      "source": [
        "<a href=\"https://colab.research.google.com/github/mmaruthi/Daily-Coding-Problems/blob/master/Day4.ipynb\" target=\"_parent\"><img src=\"https://colab.research.google.com/assets/colab-badge.svg\" alt=\"Open In Colab\"/></a>"
      ]
    },
    {
      "cell_type": "markdown",
      "metadata": {
        "id": "xsOzneRp-o_w",
        "colab_type": "text"
      },
      "source": [
        "## Day 4## \n",
        "Given an array of integers, find the first missing positive integer in linear time and constant space. In other words, find the lowest positive integer that does not exist in the array. The array can contain duplicates and negative numbers as well.\n",
        "\n",
        "For example, the input [3, 4, -1, 1] should give 2. The input [1, 2, 0] should give 3.\n",
        "\n",
        "You can modify the input array in-place."
      ]
    },
    {
      "cell_type": "markdown",
      "metadata": {
        "id": "8H9tnPx1BB0P",
        "colab_type": "text"
      },
      "source": [
        "##Solution Approach :##\n",
        "Solution 1 : \n",
        "Use \"Set\" method to convert any iterable (be it list , tuple,dictionary) to the distinct element and sorted sequence of iterable elements.\n"
      ]
    },
    {
      "cell_type": "code",
      "metadata": {
        "id": "U03EvxJz-67O",
        "colab_type": "code",
        "colab": {}
      },
      "source": [
        "def missingint(nums):\n",
        "    s = set(nums)  ## Using Set method to sort \n",
        "\n",
        "    i = 1\n",
        "    while i in s :\n",
        "        i += 1 \n",
        "    return i \n",
        "   \n",
        "        "
      ],
      "execution_count": 0,
      "outputs": []
    },
    {
      "cell_type": "code",
      "metadata": {
        "id": "odBwr15fAl12",
        "colab_type": "code",
        "colab": {
          "base_uri": "https://localhost:8080/",
          "height": 35
        },
        "outputId": "30234816-913c-4fda-b148-192fb66e0ca5"
      },
      "source": [
        "missingint([2,3,1,4,6,7,9])"
      ],
      "execution_count": 4,
      "outputs": [
        {
          "output_type": "execute_result",
          "data": {
            "text/plain": [
              "5"
            ]
          },
          "metadata": {
            "tags": []
          },
          "execution_count": 4
        }
      ]
    },
    {
      "cell_type": "markdown",
      "metadata": {
        "id": "Y9AMJuwUBhtS",
        "colab_type": "text"
      },
      "source": [
        "## Solution 2 ## \n",
        "ince the first missing positive number must be between 1 and len(array) + 1 (why?), we can ignore any negative numbers and numbers bigger than len(array). The basic idea is to use the indices of the array itself to reorder the elements to where they should be. We traverse the array and swap elements between 0 and the length of the array to their value's index. We stay at each index until we find that index's value and keep on swapping.\n",
        "\n",
        "By the end of this process, all the first positive numbers should be grouped in order at the beginning of the array. We don't care about the others.\n",
        "\n",
        "Then we can iterate through the array and return the index of the first number that doesn't match, just like before."
      ]
    },
    {
      "cell_type": "code",
      "metadata": {
        "id": "J0uTpCGpBzK7",
        "colab_type": "code",
        "colab": {}
      },
      "source": [
        "def first_missing_positive(nums):\n",
        "    if not nums:\n",
        "       return 1 \n",
        "    for i, num in enumerate(nums):\n",
        "        while i + 1 != nums[i] and 0 < nums[i] <= len(nums):\n",
        "           v = nums[i]\n",
        "           nums[i] , nums[v-1] = nums[v-1], nums[i]\n",
        "           if nums[i] == nums[v-1]:\n",
        "               break\n",
        "\n",
        "    for i, num in enumerate(nums, 1):\n",
        "        if num != i:\n",
        "           return i \n",
        "    return len(nums) + 1"
      ],
      "execution_count": 0,
      "outputs": []
    },
    {
      "cell_type": "code",
      "metadata": {
        "id": "HWBNMawNC2n-",
        "colab_type": "code",
        "colab": {
          "base_uri": "https://localhost:8080/",
          "height": 35
        },
        "outputId": "2aeb2a0e-2549-4c9d-e7d0-446aa10686f2"
      },
      "source": [
        "first_missing_positive([1,3,2,4,5,7,8])"
      ],
      "execution_count": 7,
      "outputs": [
        {
          "output_type": "execute_result",
          "data": {
            "text/plain": [
              "6"
            ]
          },
          "metadata": {
            "tags": []
          },
          "execution_count": 7
        }
      ]
    }
  ]
}